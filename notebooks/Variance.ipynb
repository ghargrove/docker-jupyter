{
 "cells": [
  {
   "cell_type": "markdown",
   "metadata": {},
   "source": [
    "TODO: Look up Collar & Hedge Wrapper on investopedia (option strategies?)"
   ]
  },
  {
   "cell_type": "code",
   "execution_count": 71,
   "metadata": {},
   "outputs": [
    {
     "name": "stdout",
     "output_type": "stream",
     "text": [
      "[ 3  8 34 39 46 52 52 52 54 57 60 65 66 75 83 85 88 94 95 96]\n",
      "Mean of X: 60.2\n"
     ]
    }
   ],
   "source": [
    "import numpy as np\n",
    "np.random.seed(121)\n",
    "X = np.random.randint(100, size=20)\n",
    "\n",
    "X  = np.sort(X)\n",
    "mu = np.mean(X)\n",
    "print(X)\n",
    "print('Mean of X: {}'.format(mu))"
   ]
  },
  {
   "cell_type": "markdown",
   "metadata": {},
   "source": [
    "### Range\n",
    "Range is the difference between the highest & lowest numbers in the dataset. It is very sensitive to outliers. Use `np.ptp`"
   ]
  },
  {
   "cell_type": "code",
   "execution_count": 63,
   "metadata": {},
   "outputs": [
    {
     "name": "stdout",
     "output_type": "stream",
     "text": [
      "Range of X: 93\n"
     ]
    }
   ],
   "source": [
    "print('Range of X: {}'.format(np.ptp(X)))"
   ]
  },
  {
   "cell_type": "markdown",
   "metadata": {},
   "source": [
    "### Mean Absolute Deviation (MAD)\n",
    "The Mean Absolute Deviation is the average of the distances between observations and the arithmetic mean"
   ]
  },
  {
   "cell_type": "code",
   "execution_count": 69,
   "metadata": {},
   "outputs": [
    {
     "name": "stdout",
     "output_type": "stream",
     "text": [
      "The Mean Absolute Deviation of X: 20.520000000000003\n"
     ]
    }
   ],
   "source": [
    "## Use a list comprehension\n",
    "X_abs = [np.abs(x - mu) for x in X]\n",
    "mad = np.sum(X_abs) / len(X_abs)\n",
    "print(\"The Mean Absolute Deviation of X: {}\".format(mad))"
   ]
  },
  {
   "cell_type": "markdown",
   "metadata": {},
   "source": [
    "### Variance"
   ]
  },
  {
   "cell_type": "code",
   "execution_count": 83,
   "metadata": {},
   "outputs": [
    {
     "name": "stdout",
     "output_type": "stream",
     "text": [
      "The variance of X: 670.16\n"
     ]
    }
   ],
   "source": [
    "v_s = [(x - mu) ** 2 for x in X]\n",
    "#print(v_s)\n",
    "## Variance\n",
    "v = np.sum(v_s) / len(v_s)\n",
    "print('The variance of X: {}'.format(v))\n",
    "#print('The variance of X: {}'.format(np.var(X)))\n",
    "#if np.var(X) == v:\n",
    "#     print('Yes my equation was right')\n",
    "# else:\n",
    "#     print('No my equation was wrong')"
   ]
  },
  {
   "cell_type": "markdown",
   "metadata": {},
   "source": [
    "### Standard Deviation\n",
    "\n",
    "Sigma (lowercase) $\\sigma$ is the standard deviation. Std is the square root of the variance ($\\sigma^2$)\n",
    "\n",
    "$$ \\sigma^2 = \\frac{\\sum_{i=1}^n (X_i - \\mu)^2}{n} $$\n",
    "\n",
    "$$ \\sigma = \\sqrt{\\sigma^2} $$"
   ]
  },
  {
   "cell_type": "code",
   "execution_count": 87,
   "metadata": {},
   "outputs": [
    {
     "name": "stdout",
     "output_type": "stream",
     "text": [
      "Standard deviation of X: 25.887448696231154\n",
      "Observations within 1.25 stds of mean [34, 39, 46, 52, 52, 52, 54, 57, 60, 65, 66, 75, 83, 85, 88]\n"
     ]
    }
   ],
   "source": [
    "\n",
    "std   = np.sqrt(v)\n",
    "std_2 = np.std(X)\n",
    "## std == std_2 = True\n",
    "\n",
    "print('Standard deviation of X: {}'.format(std))\n",
    "\n",
    "k = 1.25\n",
    "dist = k * std\n",
    "l = [x for x in X if np.abs(x - mu) <= dist]\n",
    "print('Observations within {} stds of mean {}'.format(k, l))\n",
    "\n"
   ]
  }
 ],
 "metadata": {
  "kernelspec": {
   "display_name": "Python 3",
   "language": "python",
   "name": "python3"
  },
  "language_info": {
   "codemirror_mode": {
    "name": "ipython",
    "version": 3
   },
   "file_extension": ".py",
   "mimetype": "text/x-python",
   "name": "python",
   "nbconvert_exporter": "python",
   "pygments_lexer": "ipython3",
   "version": "3.4.6"
  }
 },
 "nbformat": 4,
 "nbformat_minor": 2
}
